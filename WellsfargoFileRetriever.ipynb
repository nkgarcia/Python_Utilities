{
 "cells": [
  {
   "cell_type": "code",
   "execution_count": null,
   "id": "victorian-hammer",
   "metadata": {},
   "outputs": [],
   "source": [
    "#import argparse  #<--- in case we do this from command line\n",
    "import json\n",
    "import logging\n",
    "import sys\n",
    "import time\n",
    "\n",
    "# selenium imports\n",
    "from selenium.common.exceptions import NoSuchElementException\n",
    "from selenium.webdriver import Chrome\n",
    "from selenium.webdriver.chrome.options import Options\n",
    "from webdriver_manager.chrome import ChromeDriverManager\n",
    "\n",
    "# Set logging level\n",
    "logging.basicConfig(level=logging.INFO, format='%(asctime)s [%(levelname)s] %(message)s')"
   ]
  },
  {
   "cell_type": "code",
   "execution_count": null,
   "id": "norwegian-partnership",
   "metadata": {},
   "outputs": [],
   "source": [
    "with open('wf_creds.json') as creds:\n",
    "    cred = json.load(creds)\n",
    "companyId = cred[\"companyIdField\"]\n",
    "userId = cred[\"userIdField\"]\n",
    "password = cred[\"passwordField\"]\n",
    "token_prefix = cred[\"token_prefix\"]\n",
    "url = cred[\"url\"]"
   ]
  },
  {
   "cell_type": "code",
   "execution_count": null,
   "id": "modified-doubt",
   "metadata": {},
   "outputs": [],
   "source": [
    "rsa_token = 642450\n",
    "token = str(token_prefix)+str(rsa_token)\n",
    "logging.info(f'token = {token}')"
   ]
  },
  {
   "cell_type": "code",
   "execution_count": null,
   "id": "approximate-recommendation",
   "metadata": {},
   "outputs": [],
   "source": [
    "# Get latest chrome driver\n",
    "driver = Chrome(ChromeDriverManager().install())\n",
    "# Instantiate browser options\n",
    "chrome_options = Options()\n",
    "chrome_options.add_argument(win_size)"
   ]
  },
  {
   "cell_type": "code",
   "execution_count": null,
   "id": "alive-purchase",
   "metadata": {},
   "outputs": [],
   "source": [
    "# Website\n",
    "driver.get(url)\n",
    "\n",
    "# GET companyid element and POST companyid to element\n",
    "companyIdField = driver.find_element_by_name('companyIdField')\n",
    "companyIdField.send_keys(companyId)\n",
    "\n",
    "# GET pw element and POST password to element\n",
    "passwordField = driver.find_element_by_name('passwordField')\n",
    "passwordField.send_keys(password)\n",
    "\n",
    "# GET user element and POST user to element\n",
    "userIdField = driver.find_element_by_name('userIdField')\n",
    "userIdField.send_keys(userId)\n",
    "\n",
    "# Click sign on\n",
    "send_it = driver.find_element_by_class_name('wf-button__label')\n",
    "send_it.submit()\n",
    "\n",
    "# Wait for safe transmission to load\n",
    "time.sleep(5)\n",
    "\n"
   ]
  },
  {
   "cell_type": "code",
   "execution_count": null,
   "id": "minus-algeria",
   "metadata": {},
   "outputs": [],
   "source": [
    "# Token Validation\n",
    "\n",
    "# Input token\n",
    "token_element = driver.find_element_by_name('passcodeStep3')\n",
    "token_element.send_keys(token)\n",
    "\n",
    "# Click Continue button\n",
    "\n",
    "try:\n",
    "    send_it = driver.find_element_by_class_name('wf-button__label')\n",
    "except NoSuchElementException as e:\n",
    "    logging.fatal(e)\n",
    "    sys.exit(1)\n",
    "\n",
    "send_it.submit()"
   ]
  },
  {
   "cell_type": "code",
   "execution_count": null,
   "id": "combined-worship",
   "metadata": {},
   "outputs": [],
   "source": []
  }
 ],
 "metadata": {
  "kernelspec": {
   "display_name": "Python 3",
   "language": "python",
   "name": "python3"
  },
  "language_info": {
   "codemirror_mode": {
    "name": "ipython",
    "version": 3
   },
   "file_extension": ".py",
   "mimetype": "text/x-python",
   "name": "python",
   "nbconvert_exporter": "python",
   "pygments_lexer": "ipython3",
   "version": "3.9.1"
  }
 },
 "nbformat": 4,
 "nbformat_minor": 5
}
