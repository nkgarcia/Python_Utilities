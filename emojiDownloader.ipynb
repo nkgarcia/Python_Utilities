{
 "cells": [
  {
   "cell_type": "code",
   "execution_count": 40,
   "id": "victorian-hammer",
   "metadata": {},
   "outputs": [],
   "source": [
    "import logging\n",
    "import requests\n",
    "import shutil\n",
    "import sys\n",
    "from time import sleep\n",
    "\n",
    "# selenium imports\n",
    "from selenium.common.exceptions import NoSuchElementException\n",
    "from selenium.webdriver import Chrome\n",
    "from selenium.webdriver.chrome.options import Options\n",
    "from webdriver_manager.chrome import ChromeDriverManager\n",
    "\n",
    "# Set logging level\n",
    "logging.basicConfig(level=logging.INFO, format='%(asctime)s [%(levelname)s] %(message)s')"
   ]
  },
  {
   "cell_type": "code",
   "execution_count": 41,
   "id": "norwegian-partnership",
   "metadata": {},
   "outputs": [
    {
     "name": "stderr",
     "output_type": "stream",
     "text": [
      "2021-09-26 00:28:45,239 [INFO] Storing Files Here -> /Users/nikolasgarcia/GitHub/FileStore/\n"
     ]
    }
   ],
   "source": [
    "url = 'https://slackmojis.com/'\n",
    "Storage = '/Users/nikolasgarcia/GitHub/FileStore/'\n",
    "logging.info(f'Storing Files Here -> {Storage}')"
   ]
  },
  {
   "cell_type": "code",
   "execution_count": 42,
   "id": "approximate-recommendation",
   "metadata": {},
   "outputs": [
    {
     "name": "stderr",
     "output_type": "stream",
     "text": [
      "\n",
      "\n",
      "2021-09-26 00:28:46,249 [INFO] \n",
      "\n",
      "====== WebDriver manager ======\n",
      "2021-09-26 00:28:46,254 [INFO] ====== WebDriver manager ======\n",
      "Current google-chrome version is 93.0.4577\n",
      "2021-09-26 00:28:46,482 [INFO] Current google-chrome version is 93.0.4577\n",
      "Get LATEST driver version for 93.0.4577\n",
      "2021-09-26 00:28:46,485 [INFO] Get LATEST driver version for 93.0.4577\n",
      "Get LATEST driver version for 93.0.4577\n",
      "2021-09-26 00:28:46,751 [INFO] Get LATEST driver version for 93.0.4577\n",
      "Trying to download new driver from https://chromedriver.storage.googleapis.com/93.0.4577.63/chromedriver_mac64.zip\n",
      "2021-09-26 00:28:46,842 [INFO] Trying to download new driver from https://chromedriver.storage.googleapis.com/93.0.4577.63/chromedriver_mac64.zip\n",
      "Driver has been saved in cache [/Users/nikolasgarcia/.wdm/drivers/chromedriver/mac64/93.0.4577.63]\n",
      "2021-09-26 00:28:47,529 [INFO] Driver has been saved in cache [/Users/nikolasgarcia/.wdm/drivers/chromedriver/mac64/93.0.4577.63]\n"
     ]
    }
   ],
   "source": [
    "# Get latest chrome driver\n",
    "browser = Chrome(ChromeDriverManager().install())\n",
    "# Instantiate browser options\n",
    "chrome_options = Options()"
   ]
  },
  {
   "cell_type": "code",
   "execution_count": 43,
   "id": "impressed-ozone",
   "metadata": {},
   "outputs": [],
   "source": [
    "# Start browser session\n",
    "browser.get(url)"
   ]
  },
  {
   "cell_type": "code",
   "execution_count": 44,
   "id": "increased-episode",
   "metadata": {},
   "outputs": [
    {
     "name": "stderr",
     "output_type": "stream",
     "text": [
      "2021-09-26 00:29:01,746 [INFO] Added 200 emojis to list\n",
      "2021-09-26 00:29:11,178 [INFO] Added 200 emojis to list\n",
      "2021-09-26 00:29:13,057 [INFO] Added 36 emojis to list\n",
      "2021-09-26 00:29:37,365 [INFO] Added 1000 emojis to list\n",
      "2021-09-26 00:29:39,218 [INFO] Added 20 emojis to list\n",
      "2021-09-26 00:29:42,383 [INFO] Added 92 emojis to list\n",
      "2021-09-26 00:29:47,922 [INFO] Added 252 emojis to list\n",
      "2021-09-26 00:29:49,384 [INFO] Added 17 emojis to list\n",
      "2021-09-26 00:29:51,038 [INFO] Added 28 emojis to list\n",
      "2021-09-26 00:29:51,938 [INFO] Added 22 emojis to list\n",
      "2021-09-26 00:30:00,468 [INFO] Added 339 emojis to list\n",
      "2021-09-26 00:30:02,659 [INFO] Added 37 emojis to list\n",
      "2021-09-26 00:30:15,386 [INFO] Added 431 emojis to list\n",
      "2021-09-26 00:30:17,712 [INFO] Added 31 emojis to list\n",
      "2021-09-26 00:30:18,895 [INFO] Added 22 emojis to list\n",
      "2021-09-26 00:30:22,705 [INFO] Added 83 emojis to list\n",
      "2021-09-26 00:30:24,091 [INFO] Added 30 emojis to list\n",
      "2021-09-26 00:30:25,977 [INFO] Added 35 emojis to list\n",
      "2021-09-26 00:30:27,791 [INFO] Added 30 emojis to list\n",
      "2021-09-26 00:30:29,012 [INFO] Added 25 emojis to list\n",
      "2021-09-26 00:30:38,309 [INFO] Added 393 emojis to list\n",
      "2021-09-26 00:30:39,732 [INFO] Added 18 emojis to list\n",
      "2021-09-26 00:30:42,718 [INFO] Added 81 emojis to list\n",
      "2021-09-26 00:30:44,482 [INFO] Added 26 emojis to list\n",
      "2021-09-26 00:31:03,000 [INFO] Added 204 emojis to list\n",
      "2021-09-26 00:31:04,684 [INFO] Added 27 emojis to list\n",
      "2021-09-26 00:31:10,664 [INFO] Added 213 emojis to list\n",
      "2021-09-26 00:31:13,050 [INFO] Added 62 emojis to list\n",
      "2021-09-26 00:31:14,465 [INFO] Added 18 emojis to list\n",
      "2021-09-26 00:31:16,868 [INFO] Added 36 emojis to list\n",
      "2021-09-26 00:31:39,224 [INFO] Added 1000 emojis to list\n",
      "2021-09-26 00:31:39,789 [INFO]  In total, retrieved 5008 emoji links.\n"
     ]
    }
   ],
   "source": [
    "# Get all emojis from homepage \n",
    "emoji_links = []\n",
    "# Try downloading.\n",
    "try:\n",
    "    # Count the number of times \"seemore\" appears on page. \n",
    "    # Implemented this way to avoid StaleElementReferenceException\n",
    "    n = len(browser.find_elements_by_xpath(\"//div[@class='seemore']\"))\n",
    "    i = 0\n",
    "    while i<n:\n",
    "        # Count emoji links added thus far\n",
    "        before = len(emoji_links)\n",
    "        # Find all \"seemore\"\n",
    "        links = browser.find_elements_by_xpath(\"//div[@class='seemore']\")\n",
    "        # Index \"seemore\" to get the specific link\n",
    "        link = links[i]\n",
    "        i+=1\n",
    "        # Expand list\n",
    "        link.click()\n",
    "        # Get hyperlink for each emoji in list\n",
    "        emojis = [link.get_attribute(\"href\") for link in browser.find_elements_by_xpath(\"//a[@class='downloader']\")]\n",
    "        # Store hyperlinks\n",
    "        for e in emojis:\n",
    "            emoji_links.append(e)\n",
    "        n_added = len(emoji_links) - before\n",
    "        logging.info(f'Added {n_added} emojis to list')\n",
    "        # Navigate back to homepage\n",
    "        gohome = browser.find_element_by_class_name('gohome')\n",
    "        gohome.click()\n",
    "    logging.info(f' In total, retrieved {len(emoji_links)} emoji links.')\n",
    "except NoSuchElementException as e:\n",
    "    logging.error(e)\n",
    "    pass"
   ]
  },
  {
   "cell_type": "code",
   "execution_count": 38,
   "id": "terminal-studio",
   "metadata": {},
   "outputs": [],
   "source": [
    "# With all links, download each image\n",
    "for url in emoji_links:\n",
    "    ftype = '.gif'\n",
    "    name = str(url.split('/')[4])\n",
    "    # Create path\n",
    "    path = Storage+name+ftype\n",
    "    # Download image\n",
    "    r = requests.get(url, stream=True)\n",
    "    if r.status_code == 200:\n",
    "        # Write File to path\n",
    "        with open(path, 'wb') as file:\n",
    "            shutil.copyfileobj(r.raw, file)\n",
    "    else:\n",
    "        logging.warning(f'Could not download {name} from {path}')"
   ]
  }
 ],
 "metadata": {
  "kernelspec": {
   "display_name": "Python 3",
   "language": "python",
   "name": "python3"
  },
  "language_info": {
   "codemirror_mode": {
    "name": "ipython",
    "version": 3
   },
   "file_extension": ".py",
   "mimetype": "text/x-python",
   "name": "python",
   "nbconvert_exporter": "python",
   "pygments_lexer": "ipython3",
   "version": "3.8.2"
  }
 },
 "nbformat": 4,
 "nbformat_minor": 5
}
