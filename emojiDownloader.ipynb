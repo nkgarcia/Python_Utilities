{
 "cells": [
  {
   "cell_type": "code",
   "execution_count": null,
   "id": "victorian-hammer",
   "metadata": {},
   "outputs": [],
   "source": [
    "import logging\n",
    "import requests\n",
    "import shutil\n",
    "import sys\n",
    "from time import sleep\n",
    "\n",
    "# selenium imports\n",
    "from selenium.common.exceptions import NoSuchElementException\n",
    "from selenium.webdriver import Chrome\n",
    "from selenium.webdriver.chrome.options import Options\n",
    "from webdriver_manager.chrome import ChromeDriverManager\n",
    "\n",
    "# Set logging level\n",
    "logging.basicConfig(level=logging.INFO, format='%(asctime)s [%(levelname)s] %(message)s')"
   ]
  },
  {
   "cell_type": "code",
   "execution_count": null,
   "id": "norwegian-partnership",
   "metadata": {},
   "outputs": [],
   "source": [
    "url = 'https://slackmojis.com/'\n",
    "Storage = '/Users/nikolasgarcia/GitHub/FileStore/'\n",
    "logging.info(f'Storing Files Here -> {Storage}')"
   ]
  },
  {
   "cell_type": "code",
   "execution_count": null,
   "id": "approximate-recommendation",
   "metadata": {},
   "outputs": [],
   "source": [
    "# Get latest chrome driver\n",
    "browser = Chrome(ChromeDriverManager().install())\n",
    "# Instantiate browser options\n",
    "chrome_options = Options()"
   ]
  },
  {
   "cell_type": "code",
   "execution_count": null,
   "id": "rocky-charleston",
   "metadata": {},
   "outputs": [],
   "source": [
    "# Start browser session\n",
    "browser.get(url)"
   ]
  },
  {
   "cell_type": "code",
   "execution_count": null,
   "id": "alive-purchase",
   "metadata": {},
   "outputs": [],
   "source": [
    "# Get all images from main page --> https://www.w3schools.com/tags/att_a_href.asp\n",
    "elems=[link.get_attribute(\"href\")for link in browser.find_elements_by_xpath(\"//a[@class='downloader']\")]\n",
    "logging.info(f'Found {len(elems)} emojis')"
   ]
  },
  {
   "cell_type": "code",
   "execution_count": null,
   "id": "particular-absolute",
   "metadata": {},
   "outputs": [],
   "source": []
  },
  {
   "cell_type": "code",
   "execution_count": null,
   "id": "productive-cathedral",
   "metadata": {},
   "outputs": [],
   "source": [
    "# Retrieve all emoji links\n",
    "emoji_list = []\n",
    "# Enumerate \"seemore\" clicks. Implemented this way to avoid StaleElementReferenceException\n",
    "n = len(browser.find_elements_by_xpath(\"//div[@class='seemore']\"))\n",
    "i = 0\n",
    "while i<n:\n",
    "    links = browser.find_elements_by_xpath(\"//div[@class='seemore']\")\n",
    "    link = links[i]\n",
    "    print(link)\n",
    "    i+=1\n",
    "    link.click()\n",
    "    emojis = [link.get_attribute(\"href\") for link in browser.find_elements_by_xpath(\"//a[@class='downloader']\")]\n",
    "    emoji_list.append(emojis)\n",
    "    gohome = browser.find_element_by_class_name('gohome')\n",
    "    gohome.click()\n",
    "print(emoji_list)"
   ]
  },
  {
   "cell_type": "code",
   "execution_count": null,
   "id": "invalid-climb",
   "metadata": {},
   "outputs": [],
   "source": [
    "# With all links, download each image\n",
    "for url in elems:\n",
    "    ftype = '.gif'\n",
    "    name = url.split('/')[4]\n",
    "    # Create path\n",
    "    path = Storage+name+ftype\n",
    "    # Download image\n",
    "    r = requests.get(url, stream=True)\n",
    "    if r.status_code == 200:\n",
    "        # Write File to path\n",
    "        with open(path, 'wb') as file:\n",
    "            shutil.copyfileobj(r.raw, file)"
   ]
  }
 ],
 "metadata": {
  "kernelspec": {
   "display_name": "Python 3",
   "language": "python",
   "name": "python3"
  },
  "language_info": {
   "codemirror_mode": {
    "name": "ipython",
    "version": 3
   },
   "file_extension": ".py",
   "mimetype": "text/x-python",
   "name": "python",
   "nbconvert_exporter": "python",
   "pygments_lexer": "ipython3",
   "version": "3.8.2"
  }
 },
 "nbformat": 4,
 "nbformat_minor": 5
}
