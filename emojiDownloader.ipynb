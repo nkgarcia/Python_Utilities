{
 "cells": [
  {
   "cell_type": "code",
   "execution_count": null,
   "id": "victorian-hammer",
   "metadata": {},
   "outputs": [],
   "source": [
    "import logging\n",
    "import requests\n",
    "import shutil\n",
    "import sys\n",
    "import time\n",
    "\n",
    "# selenium imports\n",
    "from selenium.common.exceptions import NoSuchElementException\n",
    "from selenium.webdriver import Chrome\n",
    "from selenium.webdriver.chrome.options import Options\n",
    "from webdriver_manager.chrome import ChromeDriverManager\n",
    "\n",
    "# Set logging level\n",
    "logging.basicConfig(level=logging.INFO, format='%(asctime)s [%(levelname)s] %(message)s')"
   ]
  },
  {
   "cell_type": "code",
   "execution_count": null,
   "id": "norwegian-partnership",
   "metadata": {},
   "outputs": [],
   "source": [
    "url = 'https://slackmojis.com/'\n",
    "Storage = '/Users/nikolasgarcia/GitHub/FileStore/'\n",
    "logging.info(f'Storing Files Here -> {Storage}')"
   ]
  },
  {
   "cell_type": "code",
   "execution_count": null,
   "id": "approximate-recommendation",
   "metadata": {},
   "outputs": [],
   "source": [
    "# Get latest chrome driver\n",
    "browser = Chrome(ChromeDriverManager().install())\n",
    "# Instantiate browser options\n",
    "chrome_options = Options()"
   ]
  },
  {
   "cell_type": "code",
   "execution_count": null,
   "id": "alive-purchase",
   "metadata": {},
   "outputs": [],
   "source": [
    "# Website\n",
    "browser.get(url)\n",
    "\n",
    "elems=[link.get_attribute(\"href\")for link in browser.find_elements_by_xpath(\"//a[@class='downloader']\")]\n",
    "logging.info(f'Found {len(elems)} emojis')"
   ]
  },
  {
   "cell_type": "code",
   "execution_count": null,
   "id": "cardiac-biology",
   "metadata": {},
   "outputs": [],
   "source": []
  },
  {
   "cell_type": "code",
   "execution_count": null,
   "id": "hazardous-promise",
   "metadata": {},
   "outputs": [],
   "source": [
    "for url in elems:\n",
    "    ftype = '.gif'\n",
    "    name = url.split('/')[4]\n",
    "    path = Storage+name+ftype\n",
    "    r = requests.get(url, stream=True)\n",
    "    if r.status_code == 200:\n",
    "        with open(path, 'wb') as file:\n",
    "            shutil.copyfileobj(r.raw, file)"
   ]
  },
  {
   "cell_type": "markdown",
   "id": "compressed-receiver",
   "metadata": {},
   "source": []
  }
 ],
 "metadata": {
  "kernelspec": {
   "display_name": "Python 3",
   "language": "python",
   "name": "python3"
  },
  "language_info": {
   "codemirror_mode": {
    "name": "ipython",
    "version": 3
   },
   "file_extension": ".py",
   "mimetype": "text/x-python",
   "name": "python",
   "nbconvert_exporter": "python",
   "pygments_lexer": "ipython3",
   "version": "3.8.2"
  }
 },
 "nbformat": 4,
 "nbformat_minor": 5
}
