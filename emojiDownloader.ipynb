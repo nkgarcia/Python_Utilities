{
 "cells": [
  {
   "cell_type": "code",
   "execution_count": 30,
   "id": "victorian-hammer",
   "metadata": {},
   "outputs": [],
   "source": [
    "import logging\n",
    "import requests\n",
    "import shutil\n",
    "import sys\n",
    "from time import sleep\n",
    "\n",
    "# selenium imports\n",
    "from selenium.common.exceptions import NoSuchElementException\n",
    "from selenium.webdriver import Chrome\n",
    "from selenium.webdriver.chrome.options import Options\n",
    "from webdriver_manager.chrome import ChromeDriverManager\n",
    "\n",
    "# Set logging level\n",
    "logging.basicConfig(level=logging.INFO, format='%(asctime)s [%(levelname)s] %(message)s')"
   ]
  },
  {
   "cell_type": "code",
   "execution_count": 31,
   "id": "norwegian-partnership",
   "metadata": {},
   "outputs": [
    {
     "name": "stderr",
     "output_type": "stream",
     "text": [
      "2021-09-25 23:49:49,333 [INFO] Storing Files Here -> /Users/nikolasgarcia/GitHub/FileStore/\n"
     ]
    }
   ],
   "source": [
    "url = 'https://slackmojis.com/'\n",
    "Storage = '/Users/nikolasgarcia/GitHub/FileStore/'\n",
    "logging.info(f'Storing Files Here -> {Storage}')"
   ]
  },
  {
   "cell_type": "code",
   "execution_count": 32,
   "id": "approximate-recommendation",
   "metadata": {},
   "outputs": [
    {
     "name": "stderr",
     "output_type": "stream",
     "text": [
      "\n",
      "\n",
      "2021-09-25 23:49:51,665 [INFO] \n",
      "\n",
      "====== WebDriver manager ======\n",
      "2021-09-25 23:49:51,670 [INFO] ====== WebDriver manager ======\n",
      "Current google-chrome version is 93.0.4577\n",
      "2021-09-25 23:49:51,934 [INFO] Current google-chrome version is 93.0.4577\n",
      "Get LATEST driver version for 93.0.4577\n",
      "2021-09-25 23:49:51,936 [INFO] Get LATEST driver version for 93.0.4577\n",
      "Driver [/Users/nikolasgarcia/.wdm/drivers/chromedriver/mac64/93.0.4577.63/chromedriver] found in cache\n",
      "2021-09-25 23:49:52,293 [INFO] Driver [/Users/nikolasgarcia/.wdm/drivers/chromedriver/mac64/93.0.4577.63/chromedriver] found in cache\n"
     ]
    }
   ],
   "source": [
    "# Get latest chrome driver\n",
    "browser = Chrome(ChromeDriverManager().install())\n",
    "# Instantiate browser options\n",
    "chrome_options = Options()"
   ]
  },
  {
   "cell_type": "code",
   "execution_count": 33,
   "id": "dangerous-london",
   "metadata": {},
   "outputs": [],
   "source": [
    "# Start browser session\n",
    "browser.get(url)"
   ]
  },
  {
   "cell_type": "code",
   "execution_count": 34,
   "id": "alive-purchase",
   "metadata": {},
   "outputs": [
    {
     "name": "stderr",
     "output_type": "stream",
     "text": [
      "2021-09-25 23:50:09,563 [INFO] Found 550 emojis\n"
     ]
    }
   ],
   "source": [
    "# Get all images from main page --> https://www.w3schools.com/tags/att_a_href.asp\n",
    "elems=[link.get_attribute(\"href\")for link in browser.find_elements_by_xpath(\"//a[@class='downloader']\")]\n",
    "logging.info(f'Found {len(elems)} emojis')"
   ]
  },
  {
   "cell_type": "code",
   "execution_count": null,
   "id": "radio-korea",
   "metadata": {},
   "outputs": [
    {
     "name": "stderr",
     "output_type": "stream",
     "text": [
      "2021-09-25 23:56:26,468 [INFO] Added 200 emojis to list\n",
      "2021-09-25 23:56:28,933 [INFO] Added 200 emojis to list\n",
      "2021-09-25 23:56:30,452 [INFO] Added 36 emojis to list\n",
      "2021-09-25 23:56:38,526 [INFO] Added 1000 emojis to list\n",
      "2021-09-25 23:56:40,030 [INFO] Added 20 emojis to list\n",
      "2021-09-25 23:56:41,881 [INFO] Added 92 emojis to list\n",
      "2021-09-25 23:56:45,164 [INFO] Added 252 emojis to list\n",
      "2021-09-25 23:56:46,651 [INFO] Added 17 emojis to list\n",
      "2021-09-25 23:56:48,183 [INFO] Added 28 emojis to list\n",
      "2021-09-25 23:56:49,013 [INFO] Added 22 emojis to list\n",
      "2021-09-25 23:56:52,648 [INFO] Added 339 emojis to list\n",
      "2021-09-25 23:56:54,193 [INFO] Added 37 emojis to list\n",
      "2021-09-25 23:56:59,003 [INFO] Added 431 emojis to list\n",
      "2021-09-25 23:57:00,494 [INFO] Added 31 emojis to list\n",
      "2021-09-25 23:57:01,974 [INFO] Added 22 emojis to list\n",
      "2021-09-25 23:57:04,994 [INFO] Added 83 emojis to list\n",
      "2021-09-25 23:57:07,497 [INFO] Added 30 emojis to list\n",
      "2021-09-25 23:57:09,385 [INFO] Added 35 emojis to list\n",
      "2021-09-25 23:57:10,798 [INFO] Added 30 emojis to list\n",
      "2021-09-25 23:57:13,025 [INFO] Added 25 emojis to list\n",
      "2021-09-25 23:57:18,549 [INFO] Added 393 emojis to list\n",
      "2021-09-25 23:57:20,122 [INFO] Added 18 emojis to list\n",
      "2021-09-25 23:57:22,245 [INFO] Added 81 emojis to list\n",
      "2021-09-25 23:57:23,318 [INFO] Added 26 emojis to list\n",
      "2021-09-25 23:57:26,479 [INFO] Added 204 emojis to list\n",
      "2021-09-25 23:57:27,945 [INFO] Added 27 emojis to list\n",
      "2021-09-25 23:57:30,654 [INFO] Added 213 emojis to list\n"
     ]
    }
   ],
   "source": [
    "# Retrieve all emoji links\n",
    "emoji_links = []\n",
    "# Count number of \"seemore\" clicks. Implemented this way to avoid StaleElementReferenceException\n",
    "n = len(browser.find_elements_by_xpath(\"//div[@class='seemore']\"))\n",
    "i = 0\n",
    "while i<n:\n",
    "    # Count emoji links added thus far\n",
    "    before = len(emoji_links)\n",
    "    # Find all \"seemore\"\n",
    "    links = browser.find_elements_by_xpath(\"//div[@class='seemore']\")\n",
    "    # Index \"seemore\" to specific link\n",
    "    link = links[i]\n",
    "    i+=1\n",
    "    # Expand list\n",
    "    link.click()\n",
    "    # Get hyperlink for each emoji in list\n",
    "    emojis = [link.get_attribute(\"href\") for link in browser.find_elements_by_xpath(\"//a[@class='downloader']\")]\n",
    "    # Store hyperlinks\n",
    "    for e in emojis:\n",
    "        emoji_links.append(e)\n",
    "    n_added = len(emoji_links) - before\n",
    "    logging.info(f'Added {n_added} emojis to list')\n",
    "    # Navigate back to homepage\n",
    "    gohome = browser.find_element_by_class_name('gohome')\n",
    "    gohome.click()\n",
    "logging.info(f'Found {len(emoji_links)} emoji links.')"
   ]
  },
  {
   "cell_type": "code",
   "execution_count": null,
   "id": "related-tobacco",
   "metadata": {},
   "outputs": [],
   "source": [
    "# With all links, download each image\n",
    "for url in emoji_links:\n",
    "    ftype = '.gif'\n",
    "    name = url.split('/')[4]\n",
    "    # Create path\n",
    "    path = Storage+name+ftype\n",
    "    # Download image\n",
    "    r = requests.get(url, stream=True)\n",
    "    if r.status_code == 200:\n",
    "        # Write File to path\n",
    "        with open(path, 'wb') as file:\n",
    "            shutil.copyfileobj(r.raw, file)"
   ]
  },
  {
   "cell_type": "code",
   "execution_count": null,
   "id": "digital-negative",
   "metadata": {},
   "outputs": [],
   "source": [
    "emoji_links"
   ]
  }
 ],
 "metadata": {
  "kernelspec": {
   "display_name": "Python 3",
   "language": "python",
   "name": "python3"
  },
  "language_info": {
   "codemirror_mode": {
    "name": "ipython",
    "version": 3
   },
   "file_extension": ".py",
   "mimetype": "text/x-python",
   "name": "python",
   "nbconvert_exporter": "python",
   "pygments_lexer": "ipython3",
   "version": "3.8.2"
  }
 },
 "nbformat": 4,
 "nbformat_minor": 5
}
