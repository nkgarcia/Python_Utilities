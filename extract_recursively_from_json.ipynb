{
 "cells": [
  {
   "cell_type": "code",
   "execution_count": 1,
   "id": "announced-mouth",
   "metadata": {},
   "outputs": [],
   "source": [
    "import json"
   ]
  },
  {
   "cell_type": "code",
   "execution_count": 7,
   "id": "frank-pocket",
   "metadata": {},
   "outputs": [],
   "source": [
    "# example from https://www.openfigi.com/api\n",
    "j = r\"\"\"[{\n",
    "    \"data\": [{\n",
    "        \"figi\": \"BBG000BLNNH6\",\n",
    "        \"securityType\": \"Common Stock\",\n",
    "        \"marketSector\": \"Equity\",\n",
    "        \"ticker\": \"IBM\",\n",
    "        \"name\": \"INTL BUSINESS MACHINES CORP\",\n",
    "        \"exchCode\": \"US\",\n",
    "        \"shareClassFIGI\": \"BBG001S5S399\",\n",
    "        \"compositeFIGI\": \"BBG000BLNNH6\",\n",
    "        \"securityType2\": \"Common Stock\",\n",
    "        \"securityDescription\": \"IBM\",\n",
    "        \"test_nested_json\":[{\"figi\": \"BBG009R4CLR3\",\n",
    "        \"marketSector\": \"Govt\",\n",
    "        \"securityType\": \"US GOVERNMENT\",\n",
    "        \"ticker\": \"T 2 08/15/25\",\n",
    "        \"name\": \"US TREASURY N/B\",\n",
    "        \"exchCode\": \"BERLIN\",\n",
    "        \"securityDescription\": \"T 2 08/15/25\",\n",
    "        \"securityType2\": \"Note\",\n",
    "        \"compositeFIGI\": null,\n",
    "        \"shareClassFIGI\": null}]}]}]\"\"\"\n",
    "jt = j.replace('true','True')\n",
    "j1 = jt.replace('false','False')\n",
    "j2 = json.loads(j)\n"
   ]
  },
  {
   "cell_type": "code",
   "execution_count": 4,
   "id": "national-fence",
   "metadata": {},
   "outputs": [],
   "source": [
    "def json_extract(obj, key):\n",
    "    \"\"\"Recursively search nested JSON.\"\"\"\n",
    "    a = []\n",
    "    def extract(obj, a, key):\n",
    "        \"\"\"JSON recursive search\"\"\"\n",
    "        if isinstance(obj, dict):\n",
    "            for k, v in obj.items():\n",
    "                if isinstance(v, (dict, list)):\n",
    "                    extract(v, a, key)\n",
    "                elif k == key:\n",
    "                    a.append(v)\n",
    "        elif isinstance(obj, list):\n",
    "            for item in obj:\n",
    "                extract(item, a, key)\n",
    "        return a\n",
    "    values = extract(obj, a, key)\n",
    "    return values"
   ]
  },
  {
   "cell_type": "code",
   "execution_count": 8,
   "id": "collected-aberdeen",
   "metadata": {},
   "outputs": [
    {
     "name": "stdout",
     "output_type": "stream",
     "text": [
      "['BBG000BLNNH6', 'BBG009R4CLR3']\n"
     ]
    }
   ],
   "source": [
    "names = json_extract(j2[0], 'figi')\n",
    "print(names)"
   ]
  },
  {
   "cell_type": "code",
   "execution_count": 16,
   "id": "equivalent-seventh",
   "metadata": {},
   "outputs": [],
   "source": [
    "j = r\"\"\"[{\"property/mls_coverage\":{\"api_code_description\":\"ok\",\"api_code\":0,\"result\":{\"covered\":true,\"boards\":[{\"name\":\"Stellar MLS (StellarMLS), FL\",\"covered\":true,\"reciprocity\":false}]}},\"address_info\":{\"city\":\"Winter Haven\",\"county_fips\":\"12105\",\"geo_precision\":\"rooftop\",\"zipcode\":\"33880\",\"address_full\":\"420 Kensington View Dr Winter Haven FL 33880\",\"slug\":\"420-Kensington-View-Dr-Winter-Haven-FL-33880\",\"block_id\":\"121050147022003\",\"blockgroup_id\":\"121050147022\",\"state\":\"FL\",\"zipcode_plus4\":\"4827\",\"address\":\"420 Kensington View Dr\",\"lat\":27.9698715,\"lng\":-81.7890245,\"unit\":null,\"msa\":\"29460\",\"metrodiv\":null,\"status\":{\"match\":true,\"details\":[\"Address fully verified\"],\"errors\":[],\"changes\":[\"Locality (city, municipality) added or changed\",\"State added or changed\"],\"requested_item\":{\"address\":\"420 Kensington View Drive\",\"address_id\":273444783,\"zipcode\":\"33880\"}}}}]\"\"\"\n",
    "jt = j.replace('true','True')\n",
    "j1 = jt.replace('false','False')\n",
    "j2 = json.loads(j)\n",
    "##"
   ]
  },
  {
   "cell_type": "code",
   "execution_count": 18,
   "id": "norman-reading",
   "metadata": {},
   "outputs": [
    {
     "name": "stdout",
     "output_type": "stream",
     "text": [
      "['Stellar MLS (StellarMLS), FL']\n"
     ]
    }
   ],
   "source": [
    "names = json_extract(j2[0], 'name')\n",
    "print(names)\n"
   ]
  }
 ],
 "metadata": {
  "kernelspec": {
   "display_name": "Python 3",
   "language": "python",
   "name": "python3"
  },
  "language_info": {
   "codemirror_mode": {
    "name": "ipython",
    "version": 3
   },
   "file_extension": ".py",
   "mimetype": "text/x-python",
   "name": "python",
   "nbconvert_exporter": "python",
   "pygments_lexer": "ipython3",
   "version": "3.9.1"
  }
 },
 "nbformat": 4,
 "nbformat_minor": 5
}
