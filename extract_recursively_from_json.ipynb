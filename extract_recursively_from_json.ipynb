{
 "cells": [
  {
   "cell_type": "code",
   "execution_count": 29,
   "id": "announced-mouth",
   "metadata": {},
   "outputs": [],
   "source": [
    "import json"
   ]
  },
  {
   "cell_type": "code",
   "execution_count": 52,
   "id": "frank-pocket",
   "metadata": {},
   "outputs": [],
   "source": [
    "j = r'[{\"property\\/mls_coverage\":{\"api_code_description\":\"ok\",\"api_code\":0,\"result\":{\"covered\":true,\"boards\":[{\"name\":\"North Texas Real Estate Information Systems Inc. (NTREIS), TX\",\"covered\":true,\"reciprocity\":false}]}},\"address_info\":{\"city\":\"Wylie\",\"county_fips\":\"48085\",\"geo_precision\":\"rooftop\",\"zipcode\":\"75098\",\"address_full\":\"432 Highland Ridge Dr Wylie TX 75098\",\"slug\":\"432-Highland-Ridge-Dr-Wylie-TX-75098\",\"block_id\":\"480850313112015\",\"blockgroup_id\":\"480850313112\",\"state\":\"TX\",\"zipcode_plus4\":\"5543\",\"address\":\"432 Highland Ridge Dr\",\"lat\":32.9929848,\"lng\":-96.5546417,\"unit\":null,\"msa\":\"19100\",\"metrodiv\":\"19124\",\"status\":{\"match\":true,\"details\":[\"Address fully verified\"],\"errors\":[],\"changes\":[\"Street name added or changed\",\"Street leading or trailing type added or changed (ex: \\\"St\\\" to \\\"Rd\\\")\",\"State added or changed\",\"Locality (city, municipality) added or changed\"],\"requested_item\":{\"address\":\"432+Highland+Ridge+Dr\",\"zipcode\":\"75098\"}}}}]'\n",
    "jt = j.replace('true','True')\n",
    "j1 = jt.replace('false','False')\n",
    "j2 = json.loads(j)\n"
   ]
  },
  {
   "cell_type": "code",
   "execution_count": 53,
   "id": "national-fence",
   "metadata": {},
   "outputs": [],
   "source": [
    "def json_extract(obj, key):\n",
    "    \"\"\"Recursively search nested JSON.\"\"\"\n",
    "    a = []\n",
    "    def extract(obj, a, key):\n",
    "        \"\"\"JSON recursive search\"\"\"\n",
    "        if isinstance(obj, dict):\n",
    "            for k, v in obj.items():\n",
    "                if isinstance(v, (dict, list)):\n",
    "                    extract(v, a, key)\n",
    "                elif k == key:\n",
    "                    a.append(v)\n",
    "        elif isinstance(obj, list):\n",
    "            for item in obj:\n",
    "                extract(item, a, key)\n",
    "        return a\n",
    "    values = extract(obj, a, key)\n",
    "    return values"
   ]
  },
  {
   "cell_type": "code",
   "execution_count": 54,
   "id": "collected-aberdeen",
   "metadata": {},
   "outputs": [
    {
     "name": "stdout",
     "output_type": "stream",
     "text": [
      "['19100']\n"
     ]
    }
   ],
   "source": [
    "names = json_extract(j2[0], 'msa')\n",
    "print(names)"
   ]
  }
 ],
 "metadata": {
  "kernelspec": {
   "display_name": "Python 3",
   "language": "python",
   "name": "python3"
  },
  "language_info": {
   "codemirror_mode": {
    "name": "ipython",
    "version": 3
   },
   "file_extension": ".py",
   "mimetype": "text/x-python",
   "name": "python",
   "nbconvert_exporter": "python",
   "pygments_lexer": "ipython3",
   "version": "3.9.1"
  }
 },
 "nbformat": 4,
 "nbformat_minor": 5
}
