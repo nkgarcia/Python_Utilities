{
 "cells": [
  {
   "cell_type": "code",
   "execution_count": null,
   "id": "greater-amendment",
   "metadata": {},
   "outputs": [],
   "source": [
    "import imaplib, email \n",
    "  \n",
    "user = \"\"\n",
    "password = \"\"\n",
    "imap_url = 'imap.gmail.com'\n",
    "  \n"
   ]
  },
  {
   "cell_type": "code",
   "execution_count": null,
   "id": "shared-offset",
   "metadata": {},
   "outputs": [],
   "source": [
    "# Function to get email content part i.e its body part \n",
    "def get_body(msg): \n",
    "    if msg.is_multipart(): \n",
    "        return get_body(msg.get_payload(0)) \n",
    "    else: \n",
    "        return msg.get_payload(None, True) \n",
    "  \n",
    "# Function to search for a key value pair  \n",
    "def search(key, value, con):  \n",
    "    result, data = con.search(None, key, '\"{}\"'.format(value)) \n",
    "    return data \n",
    "  \n",
    "# Function to get the list of emails under this label \n",
    "def get_emails(result_bytes): \n",
    "    msgs = [] # all the email data are pushed inside an array \n",
    "    for num in result_bytes[0].split(): \n",
    "        typ, data = con.fetch(num, '(RFC822)') \n",
    "        msgs.append(data) \n",
    "  \n",
    "    return msgs \n",
    " "
   ]
  },
  {
   "cell_type": "code",
   "execution_count": null,
   "id": "grave-subject",
   "metadata": {},
   "outputs": [],
   "source": [
    " \n",
    "# this is done to make SSL connnection with GMAIL \n",
    "con = imaplib.IMAP4_SSL(imap_url)  \n",
    "  \n",
    "# logging the user in \n",
    "con.login(user, password)  \n",
    "  \n",
    "# calling function to check for email under this label \n",
    "con.select('Inbox')  \n",
    "  \n",
    " # fetching emails from this user \"ark@ark-funds.com\" \n",
    "msgs = get_emails(search('FROM', 'ark@ark-funds.com', con)) \n",
    "  \n",
    "# Uncomment this to see what actually comes as data  \n",
    "# print(msgs)  \n",
    "  \n",
    "  \n"
   ]
  },
  {
   "cell_type": "code",
   "execution_count": null,
   "id": "overall-summit",
   "metadata": {},
   "outputs": [],
   "source": [
    "# Finding the required content from our msgs \n",
    "# User can make custom changes in this part to \n",
    "# fetch the required content he / she needs \n",
    "  \n",
    "# printing them by the order they are displayed in your gmail  \n",
    "for msg in msgs[::-1]:  \n",
    "    for sent in msg: \n",
    "        if type(sent) is tuple:  \n",
    "  \n",
    "            # encoding set as utf-8 \n",
    "            content = str(sent[1], 'utf-8')  \n",
    "            data = str(content) \n",
    "  \n",
    "            # Handling errors related to unicodenecode \n",
    "            try:  \n",
    "                indexstart = data.find(\"ltr\") \n",
    "                data2 = data[indexstart + 5: len(data)] \n",
    "                indexend = data2.find(\"</div>\") \n",
    "  \n",
    "                # printtng the required content which we need \n",
    "                # to extract from our email i.e our body \n",
    "                print(data2[0: indexend]) \n",
    "  \n",
    "            except UnicodeEncodeError as e: \n",
    "                pass"
   ]
  },
  {
   "cell_type": "code",
   "execution_count": null,
   "id": "seeing-newcastle",
   "metadata": {},
   "outputs": [],
   "source": [
    "con.logout()"
   ]
  }
 ],
 "metadata": {
  "kernelspec": {
   "display_name": "Python 3",
   "language": "python",
   "name": "python3"
  },
  "language_info": {
   "codemirror_mode": {
    "name": "ipython",
    "version": 3
   },
   "file_extension": ".py",
   "mimetype": "text/x-python",
   "name": "python",
   "nbconvert_exporter": "python",
   "pygments_lexer": "ipython3",
   "version": "3.8.2"
  }
 },
 "nbformat": 4,
 "nbformat_minor": 5
}
